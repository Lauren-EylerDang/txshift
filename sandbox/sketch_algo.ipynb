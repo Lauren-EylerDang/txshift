{
 "cells": [
  {
   "cell_type": "markdown",
   "metadata": {},
   "source": [
    "# Implementation of algorithm from Diaz and van der Laan"
   ]
  },
  {
   "cell_type": "code",
   "execution_count": 12,
   "metadata": {
    "collapsed": true
   },
   "outputs": [],
   "source": [
    "rm(list = ls())\n",
    "set.seed(429153)\n",
    "n_obs <- 1000\n",
    "n_w <- 3"
   ]
  },
  {
   "cell_type": "code",
   "execution_count": 23,
   "metadata": {},
   "outputs": [
    {
     "data": {
      "text/html": [
       "<table>\n",
       "<thead><tr><th scope=col>W1</th><th scope=col>W2</th><th scope=col>W3</th><th scope=col>A</th><th scope=col>Y</th></tr></thead>\n",
       "<tbody>\n",
       "\t<tr><td> 0.1080803  </td><td>-0.230222921</td><td>-0.4744050  </td><td> 1.3577145  </td><td> 0.9773838  </td></tr>\n",
       "\t<tr><td> 0.5021332  </td><td>-0.291323049</td><td> 0.5347912  </td><td> 1.2619159  </td><td> 0.9526745  </td></tr>\n",
       "\t<tr><td>-1.8953431  </td><td>-0.656984062</td><td> 0.9888629  </td><td>-0.6050819  </td><td>-0.5688294  </td></tr>\n",
       "\t<tr><td>-1.2538256  </td><td>-0.001461187</td><td>-0.5695259  </td><td> 0.5204272  </td><td> 0.4972508  </td></tr>\n",
       "\t<tr><td> 0.3002404  </td><td>-0.296505112</td><td> 0.2389099  </td><td> 1.4940473  </td><td> 0.9970562  </td></tr>\n",
       "\t<tr><td>-0.8670006  </td><td>-0.264386145</td><td>-1.3021535  </td><td> 0.1622390  </td><td> 0.1615282  </td></tr>\n",
       "</tbody>\n",
       "</table>\n"
      ],
      "text/latex": [
       "\\begin{tabular}{r|lllll}\n",
       " W1 & W2 & W3 & A & Y\\\\\n",
       "\\hline\n",
       "\t  0.1080803   & -0.230222921 & -0.4744050   &  1.3577145   &  0.9773838  \\\\\n",
       "\t  0.5021332   & -0.291323049 &  0.5347912   &  1.2619159   &  0.9526745  \\\\\n",
       "\t -1.8953431   & -0.656984062 &  0.9888629   & -0.6050819   & -0.5688294  \\\\\n",
       "\t -1.2538256   & -0.001461187 & -0.5695259   &  0.5204272   &  0.4972508  \\\\\n",
       "\t  0.3002404   & -0.296505112 &  0.2389099   &  1.4940473   &  0.9970562  \\\\\n",
       "\t -0.8670006   & -0.264386145 & -1.3021535   &  0.1622390   &  0.1615282  \\\\\n",
       "\\end{tabular}\n"
      ],
      "text/markdown": [
       "\n",
       "W1 | W2 | W3 | A | Y | \n",
       "|---|---|---|---|---|---|\n",
       "|  0.1080803   | -0.230222921 | -0.4744050   |  1.3577145   |  0.9773838   | \n",
       "|  0.5021332   | -0.291323049 |  0.5347912   |  1.2619159   |  0.9526745   | \n",
       "| -1.8953431   | -0.656984062 |  0.9888629   | -0.6050819   | -0.5688294   | \n",
       "| -1.2538256   | -0.001461187 | -0.5695259   |  0.5204272   |  0.4972508   | \n",
       "|  0.3002404   | -0.296505112 |  0.2389099   |  1.4940473   |  0.9970562   | \n",
       "| -0.8670006   | -0.264386145 | -1.3021535   |  0.1622390   |  0.1615282   | \n",
       "\n",
       "\n"
      ],
      "text/plain": [
       "  W1         W2           W3         A          Y         \n",
       "1  0.1080803 -0.230222921 -0.4744050  1.3577145  0.9773838\n",
       "2  0.5021332 -0.291323049  0.5347912  1.2619159  0.9526745\n",
       "3 -1.8953431 -0.656984062  0.9888629 -0.6050819 -0.5688294\n",
       "4 -1.2538256 -0.001461187 -0.5695259  0.5204272  0.4972508\n",
       "5  0.3002404 -0.296505112  0.2389099  1.4940473  0.9970562\n",
       "6 -0.8670006 -0.264386145 -1.3021535  0.1622390  0.1615282"
      ]
     },
     "metadata": {},
     "output_type": "display_data"
    }
   ],
   "source": [
    "# simulate simple data for tmle-shift sketch\n",
    "W <- replicate(n_w, rnorm(n_obs))\n",
    "A <- rowSums(cos(exp(W)) + W)\n",
    "Y <- sin(A)\n",
    "O <- as.data.frame(cbind(W,A,Y))\n",
    "colnames(O) <- c(paste0(\"W\", seq_len(n_w)), \"A\", \"Y\")\n",
    "head(O)"
   ]
  },
  {
   "cell_type": "code",
   "execution_count": null,
   "metadata": {
    "collapsed": true
   },
   "outputs": [],
   "source": []
  },
  {
   "cell_type": "markdown",
   "metadata": {},
   "source": [
    "# Anatomy of the shift-Tx package"
   ]
  },
  {
   "cell_type": "markdown",
   "metadata": {},
   "source": [
    "The algorithm is based on @diaz2017stochastic.\n",
    "\n",
    "## Starting Assumptions\n",
    "\n",
    "1. Start with a simple additive shift -- i.e., $d(a,w) = a + \\delta$ if $a <\n",
    "    u(w) - \\delta$ or $d(a,w) = a$ if $a \\geq u(w) - \\delta$.\n",
    "2. The additive shift will have _support everywhere_ -- i.e., $a < u(w)$ is true\n",
    "    everywhere.\n",
    "3. The data structure that we know and love $O = (W,A,Y)$.\n",
    "\n",
    "## Functions Needed\n",
    "\n",
    "* estimate $g_n(W)$\n",
    "* estimate $Q_n(A, W)$\n",
    "* estimate auxiliary covariate $H_n(A_i, W_i)$\n",
    "* fluctuation procedure\n",
    "* 1-TMLE procedure\n",
    "* EIF procedure"
   ]
  },
  {
   "cell_type": "markdown",
   "metadata": {},
   "source": [
    "## Estimate $g_n(W)$\n",
    "\n",
    "* _input_: W, a\n",
    "* _output_: a 2-column matrix, with columns for $g_n(A_i - \\delta \\mid W_i)$ and\n",
    "    $g_n(A_i \\mid W_i)$\n",
    "* in the inputs $a$ is the additive shift\n",
    "* use the __fit_density__ function from Oleg's __condensier__ package, need to\n",
    "    use __predict_prob__ function twice: once for $A_i - \\delta$ and once for\n",
    "    $A_i$"
   ]
  },
  {
   "cell_type": "markdown",
   "metadata": {},
   "source": [
    "## Estimate $Q_n(A, W)$\n",
    "\n",
    "* _input_: W, a\n",
    "* _output_: a 2-column matrix, with columns for $\\bar{Q}_n(A_i, W_i)$ and\n",
    "    $\\bar{Q}_n(A_i + \\delta, W_i)$"
   ]
  },
  {
   "cell_type": "markdown",
   "metadata": {},
   "source": [
    "## Estimate $H_n(A_i, W_i)$\n",
    "\n",
    "* _input_: matrix output produced by $g_n(w)$\n",
    "* _output_: vector (possibly shifted) of the form described in the eqn below\n",
    "* $H(a,w) = I(a < u(w)) \\frac{g_0(a - \\delta \\mid w)}{g_0(a \\mid w)} + I(a\n",
    "    \\geq u(w) - \\delta)$\n",
    "* By our assumption (2) above -- that we have _support everywhere_ -- we reduce\n",
    "    the above formulation\n",
    "* That is, we assume that $I(a < u(w)) = 1$ and $I(a \\geq u(w) - \\delta) = 0$\n",
    "* Thus the form of the covariate reduces simply to $H(a,w) = \\frac{g_0(a -\n",
    "    \\delta \\mid w)}{g_0(a \\mid w)}$"
   ]
  },
  {
   "cell_type": "markdown",
   "metadata": {},
   "source": [
    "## Fluctuation Procedure\n",
    "\n",
    "* _input_: matrix output from $Q_n(a,w)$, vector output of $H_n$, vector Y\n",
    "* _output_: model fit object produced from a call to `glm` or `SuperLearner`\n",
    "* We have the fluctuation model: $logit \\bar{Q}_{\\epsilon, n}(a,w) =\n",
    "    logit(\\bar{Q}_n(a,w)) + \\epsilon \\cdot H_n(a,w)$\n",
    "* Note that the first term on the RHS of the above equation is one of the\n",
    "    columns generated as output by the function to estimate $Q_n(A,W)$\n",
    "* this could be fit with R code like the following `glm(Y ~ -1 +\n",
    "    offset(logitQn_AW + Hn_AW), family = \"binomial\")`, from which we may extract\n",
    "    the coefficient, which is $\\epsilon_n$ from the above"
   ]
  },
  {
   "cell_type": "markdown",
   "metadata": {},
   "source": [
    "## 1-TMLE Procedure\n",
    "\n",
    "* _input_: model fit object produced by the fluctuation procedure above, matrix\n",
    "    produced by procedure to estimate $Q_n(A,W)$\n",
    "* _output_: numeric scalar for the mean of $\\bar{Q}^*_n$\n",
    "* note that we have $\\psi_n = \\frac{1}{n} \\sum_{i=1}^n \\bar{Q}_n^*(d(A_i, W_i),\n",
    "    W_i)$\n",
    "* we obtain $\\bar{Q}_n^*$ by calling the appropriate method of predict on the\n",
    "    shifted data -- i.e., `predict(fit, newdata = data.frame(Qn_dAW), type =\n",
    "    \"response\"` (note that use of 'response' performs the `expit()` transform).\n",
    "* compute the $\\psi_n$ as the mean of the vector produced by calling `predict`\n",
    "    on the fit object, as described above"
   ]
  },
  {
   "cell_type": "markdown",
   "metadata": {},
   "source": [
    "## EIF Procedure\n",
    "\n",
    "* _input_: matrix produced by $Q^*$: a 2-column matrix, with columns for\n",
    "    $\\bar{Q}_n(A_i, W_i)$ and $\\bar{Q}_n(A_i + \\delta, W_i)$\n",
    "* _output_: scalar, the variance of the efficient influence function\n",
    "* note that we have the _efficient influence function_ (EIF): $D(P)(o) =\n",
    "    H(a,w)(y - \\bar{Q}(a,w)) + \\bar{Q}(d(a,w)) - \\psi(P)$\n",
    "* to compute the EIF from the above, we may set up a function like the following\n",
    "    `eif <- function(Y, H, Qn_AW, Qn_dAW, Psi)`, which can then compute $\\psi$\n",
    "    by calling 1-TMLE (alternatively, the mean of the vector `Qn_dAW`) and then\n",
    "    using the formula above\n",
    "* compute $\\sigma^2_n = \\frac{1}{n}(EIF^2)$, that is simply call mean on the\n",
    "    vector produced by the above"
   ]
  }
 ],
 "metadata": {
  "kernelspec": {
   "display_name": "R",
   "language": "R",
   "name": "ir"
  },
  "language_info": {
   "codemirror_mode": "r",
   "file_extension": ".r",
   "mimetype": "text/x-r-source",
   "name": "R",
   "pygments_lexer": "r",
   "version": "3.4.2"
  }
 },
 "nbformat": 4,
 "nbformat_minor": 2
}

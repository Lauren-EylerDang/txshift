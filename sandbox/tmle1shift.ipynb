{
 "cells": [
  {
   "cell_type": "markdown",
   "metadata": {},
   "source": [
    "## Example setup"
   ]
  },
  {
   "cell_type": "code",
   "execution_count": 48,
   "metadata": {},
   "outputs": [],
   "source": [
    "library(shifttx)"
   ]
  },
  {
   "cell_type": "code",
   "execution_count": 49,
   "metadata": {
    "collapsed": true
   },
   "outputs": [],
   "source": [
    "# Example based on the data-generating mechanism presented in the simulation\n",
    "set.seed(489327)\n",
    "n <- 100\n",
    "W <- data.frame(W1 = runif(n), W2 = rbinom(n, 1, 0.7))\n",
    "A <- rpois(n, lambda = exp(3 + .3 * log(W$W1) - 0.2 * exp(W$W1) * W$W2))\n",
    "Y <- rbinom(n, 1, plogis(-1 + 0.05 * A - 0.02 * A * W$W2 + 0.2 * A * tan(W$W1^2)\n",
    "                         - 0.02 * W$W1 * W$W2 + 0.1 * A * W$W1 * W$W2))\n",
    "\n",
    "# functional forms for g and Q\n",
    "fitA.0 <- glm(A ~ I(log(W1)) + I(exp(W1)):W2, family = poisson,\n",
    "              data = data.frame(A, W))\n",
    "fitY.0 <- glm(Y ~ A + A:W2 + A:I(tan(W1^2)) + W1:W2 + A:W1:W2,\n",
    "              family = binomial, data = data.frame(A, W))\n",
    "\n",
    "gn.0  <- function(A = A, W = W) {\n",
    "  dpois(A, lambda = predict(fitA.0, newdata = W, type = \"response\"))\n",
    "}\n",
    "\n",
    "Qn.0 <- function(A = A, W = W) {\n",
    "  predict(fitY.0, newdata = data.frame(A, W, row.names = NULL),\n",
    "          type = \"response\")\n",
    "}"
   ]
  },
  {
   "cell_type": "markdown",
   "metadata": {},
   "source": [
    "## Original implementation (vdL & Diáz, 2012)"
   ]
  },
  {
   "cell_type": "code",
   "execution_count": 50,
   "metadata": {
    "collapsed": true
   },
   "outputs": [],
   "source": [
    "n_iter <- 3\n",
    "tmle_out_iter <- as.matrix(replicate(2, rnorm(n_iter)))"
   ]
  },
  {
   "cell_type": "code",
   "execution_count": 51,
   "metadata": {
    "collapsed": true
   },
   "outputs": [],
   "source": [
    "for (j in seq_len(n_iter)) {\n",
    "    tmle_shift_new <- tmle_shift(Y = Y, A = A, W = W, Qn = Qn.0, gn = gn.0,\n",
    "                                 delta = 2, tol = 1e-4, iter_max = n_iter,\n",
    "                                 A_val = seq(1, 60, 1))\n",
    "    tmle_out_iter[j, ] <- tmle_shift_new[1:2]\n",
    "}"
   ]
  },
  {
   "cell_type": "code",
   "execution_count": 63,
   "metadata": {},
   "outputs": [
    {
     "data": {
      "text/html": [
       "<dl class=dl-horizontal>\n",
       "\t<dt>psi.hat</dt>\n",
       "\t\t<dd>0.572468937215315</dd>\n",
       "\t<dt>var.hat</dt>\n",
       "\t\t<dd>0.00310947602499033</dd>\n",
       "</dl>\n"
      ],
      "text/latex": [
       "\\begin{description*}\n",
       "\\item[psi.hat] 0.572468937215315\n",
       "\\item[var.hat] 0.00310947602499033\n",
       "\\end{description*}\n"
      ],
      "text/markdown": [
       "psi.hat\n",
       ":   0.572468937215315var.hat\n",
       ":   0.00310947602499033\n",
       "\n"
      ],
      "text/plain": [
       "    psi.hat     var.hat \n",
       "0.572468937 0.003109476 "
      ]
     },
     "metadata": {},
     "output_type": "display_data"
    }
   ],
   "source": [
    "tmle_shift_new[1:2]"
   ]
  },
  {
   "cell_type": "code",
   "execution_count": 64,
   "metadata": {},
   "outputs": [
    {
     "data": {
      "text/html": [
       "<table>\n",
       "<tbody>\n",
       "\t<tr><td>0.5724689  </td><td>0.003109476</td></tr>\n",
       "\t<tr><td>0.5724689  </td><td>0.003109476</td></tr>\n",
       "\t<tr><td>0.5724689  </td><td>0.003109476</td></tr>\n",
       "</tbody>\n",
       "</table>\n"
      ],
      "text/latex": [
       "\\begin{tabular}{ll}\n",
       "\t 0.5724689   & 0.003109476\\\\\n",
       "\t 0.5724689   & 0.003109476\\\\\n",
       "\t 0.5724689   & 0.003109476\\\\\n",
       "\\end{tabular}\n"
      ],
      "text/markdown": [
       "\n",
       "| 0.5724689   | 0.003109476 | \n",
       "| 0.5724689   | 0.003109476 | \n",
       "| 0.5724689   | 0.003109476 | \n",
       "\n",
       "\n"
      ],
      "text/plain": [
       "     [,1]      [,2]       \n",
       "[1,] 0.5724689 0.003109476\n",
       "[2,] 0.5724689 0.003109476\n",
       "[3,] 0.5724689 0.003109476"
      ]
     },
     "metadata": {},
     "output_type": "display_data"
    }
   ],
   "source": [
    "tmle_out_iter"
   ]
  },
  {
   "cell_type": "markdown",
   "metadata": {},
   "source": [
    "## 1-TMLE implementation (vdL & Diáz, 2017)"
   ]
  },
  {
   "cell_type": "code",
   "execution_count": 58,
   "metadata": {
    "collapsed": true
   },
   "outputs": [],
   "source": [
    "est_eqn2 <- function(eps, QnAW, Qn, H1, gn0d, EQnd, D2, prev_sum, Y, A, W,\n",
    "                     delta) {\n",
    "\n",
    "  sum((Y - (QnAW + eps * H1)) * H1 + (Qn(A + delta, W) - EQnd) -\n",
    "      rowSums(D2 * exp(eps * D2 + prev_sum) * gn0d) /\n",
    "      rowSums(exp(eps * D2 + prev_sum) * gn0d))\n",
    "}"
   ]
  },
  {
   "cell_type": "code",
   "execution_count": 59,
   "metadata": {
    "collapsed": true
   },
   "outputs": [],
   "source": [
    "f_iter2 <- function(Qn, gn, gn0d = NULL, prev_sum = 0, first = FALSE, h_int,\n",
    "                    Y, A, W, delta, A_val) {\n",
    "\n",
    "  # numerical integrals and equation (7)\n",
    "  Qnd <- t(sapply(seq_len(nrow(W)), function(i) Qn(A_val + delta, W[i, ])))\n",
    "  gnd <- t(sapply(seq_len(nrow(W)), function(i) gn(A_val, W[i, ])))\n",
    "  gnd <- gnd / rowSums(gnd)\n",
    "  if (first) gn0d <- gnd\n",
    "\n",
    "  # Riemann sum for integral defining estimate of Qn\n",
    "  EQnd <- rowSums(Qnd * gnd) * h_int\n",
    "  D2 <- Qnd - EQnd\n",
    "  QnAW <- Qn(A, W)\n",
    "  H1 <- gn(A - delta, W) / gn(A, W)\n",
    "\n",
    "  # equation (8)\n",
    "  est_eqn_min  <- stats::uniroot(est_eqn2, c(-1, 1),  Y = Y, A = A, W = W,\n",
    "                                 delta = delta, QnAW = QnAW, Qn = Qn, H1 = H1,\n",
    "                                 gn0d = gn0d, EQnd = EQnd, D2 = D2,\n",
    "                                 prev_sum = prev_sum)\n",
    "  eps <- est_eqn_min$root\n",
    "\n",
    "  # updated values\n",
    "  #if (first) {  # get an initial estimate during the first run\n",
    "  #    gn_ini_est <- function(a, w) exp(eps * Qn(a + delta, w)) * gn(a, w)\n",
    "  #} \n",
    "  Qn_new   <- function(a, w) Qn(a, w) + eps * gn(a - delta, w) / gn(a, w)\n",
    "  prev_sum <- prev_sum + eps * D2\n",
    "  return(list(Qn = Qn_new,  # we wish to update Qn just once\n",
    "              #if (first) {\n",
    "              #    gn = gn_ini_est\n",
    "              #} else {\n",
    "                  gn = gn,\n",
    "              #},  # we don't want to update gn -- not necessary\n",
    "              prev_sum = prev_sum,\n",
    "              eps = eps,\n",
    "              gn0d = gn0d)  # the initial estimate of gn\n",
    "        )\n",
    "}"
   ]
  },
  {
   "cell_type": "code",
   "execution_count": 68,
   "metadata": {
    "collapsed": true
   },
   "outputs": [],
   "source": [
    "tmle1_shift <- function(Y, A, W,\n",
    "                        Qn, gn,\n",
    "                        delta, A_val) {\n",
    "\n",
    "  # interval partition length, A_val assumed equally spaced\n",
    "  n_A_val <- length(A_val)\n",
    "  h_int <- (A_val[n_A_val] - A_val[1]) / (n_A_val - 1)\n",
    "\n",
    "  # inputs are estimator functions of Q and g\n",
    "  # first run returns initial estimators\n",
    "  # subsequent runs return their updated valeus\n",
    "  ini_out <- f_iter2(Qn = Qn,  # functional form provided as input\n",
    "                     gn = gn,  # functional form provided as input\n",
    "                     gn0d = NULL,\n",
    "                     prev_sum = 0,\n",
    "                     first = TRUE,\n",
    "                     h_int = h_int,\n",
    "                     W = W, A = A, A_val = A_val, Y = Y, delta = delta)\n",
    "  gn0d <- ini_out$gn0d\n",
    "\n",
    "  # update step: 1-TMLE requires we only do this for Qn\n",
    "  new_out <- f_iter2(Qn = ini_out$Qn,  # initial estimate obtained from last run\n",
    "                     gn = ini_out$gn,  # same functional form as input; NOT updated in this run\n",
    "                     gn0d = gn0d,  # initial estimate for gn; NOT to be updated\n",
    "                     prev_sum = ini_out$prev_sum,\n",
    "                     first = FALSE,\n",
    "                     h_int = h_int,\n",
    "                     W = W, A = A, A_val = A_val, Y = Y, delta = delta)\n",
    "    \n",
    "\n",
    "  Qnd <- t(sapply(seq_len(nrow(W)), function(i) ini_out$Qn(A_val + delta, W[i, ])))\n",
    "  #gnd <- t(sapply(seq_len(nrow(W)), function(i) new_out$gn(A_val, W[i, ])))\n",
    "  #gnd <- gnd / rowSums(gnd)\n",
    "\n",
    "  # this is an integral computed by Riemann sum\n",
    "  Qbar_n_star <- rowSums(Qnd * gn0d) * h_int\n",
    "\n",
    "  # plug in tmle\n",
    "  psi_hat <- mean(Qbar_n_star)\n",
    "\n",
    "  # influence curve of tmle\n",
    "  IC <- (Y - ini_out$Qn(A, W)) * ini_out$gn(A - delta, W) / ini_out$gn(A, W) +\n",
    "    ini_out$Qn(A + delta, W) - psi_hat\n",
    "  var_hat <- stats::var(IC) / length(Y)\n",
    "      \n",
    "  # construct output object in S3 style\n",
    "  out <- list(psi_hat = psi_hat, var_hat = var_hat, ic = as.vector(IC))\n",
    "  class(out) <- \"shift_1tmle\"\n",
    "  return(out)\n",
    "}"
   ]
  },
  {
   "cell_type": "code",
   "execution_count": 69,
   "metadata": {
    "collapsed": true
   },
   "outputs": [],
   "source": [
    "tmle1_new <- tmle1_shift(Y = Y, A = A, W = W,\n",
    "                         Qn = Qn.0, gn = gn.0,\n",
    "                         delta = 2, A_val = seq(1, 60, 1))"
   ]
  },
  {
   "cell_type": "code",
   "execution_count": 70,
   "metadata": {},
   "outputs": [
    {
     "data": {
      "text/html": [
       "0.572516826808562"
      ],
      "text/latex": [
       "0.572516826808562"
      ],
      "text/markdown": [
       "0.572516826808562"
      ],
      "text/plain": [
       "[1] 0.5725168"
      ]
     },
     "metadata": {},
     "output_type": "display_data"
    },
    {
     "data": {
      "text/html": [
       "0.00311073070657912"
      ],
      "text/latex": [
       "0.00311073070657912"
      ],
      "text/markdown": [
       "0.00311073070657912"
      ],
      "text/plain": [
       "[1] 0.003110731"
      ]
     },
     "metadata": {},
     "output_type": "display_data"
    }
   ],
   "source": [
    "tmle1_new$psi\n",
    "tmle1_new$var"
   ]
  },
  {
   "cell_type": "markdown",
   "metadata": {},
   "source": [
    "## Check 1-TMLE is similar to iterative procedure"
   ]
  },
  {
   "cell_type": "markdown",
   "metadata": {},
   "source": [
    "What? Are you serious? That was all..."
   ]
  },
  {
   "cell_type": "code",
   "execution_count": 65,
   "metadata": {},
   "outputs": [
    {
     "data": {
      "text/html": [
       "<ol class=list-inline>\n",
       "\t<li>'names for current but not for target'</li>\n",
       "\t<li>'Mean relative difference: 0.000223934'</li>\n",
       "</ol>\n"
      ],
      "text/latex": [
       "\\begin{enumerate*}\n",
       "\\item 'names for current but not for target'\n",
       "\\item 'Mean relative difference: 0.000223934'\n",
       "\\end{enumerate*}\n"
      ],
      "text/markdown": [
       "1. 'names for current but not for target'\n",
       "2. 'Mean relative difference: 0.000223934'\n",
       "\n",
       "\n"
      ],
      "text/plain": [
       "[1] \"names for current but not for target\" \n",
       "[2] \"Mean relative difference: 0.000223934\""
      ]
     },
     "metadata": {},
     "output_type": "display_data"
    }
   ],
   "source": [
    "# old one -- using new_out and ini_out\n",
    "all.equal(tmle1_new$psi_hat, tmle_shift_new[1])"
   ]
  },
  {
   "cell_type": "code",
   "execution_count": 71,
   "metadata": {},
   "outputs": [
    {
     "data": {
      "text/html": [
       "<ol class=list-inline>\n",
       "\t<li>'names for current but not for target'</li>\n",
       "\t<li>'Mean relative difference: 8.364749e-05'</li>\n",
       "</ol>\n"
      ],
      "text/latex": [
       "\\begin{enumerate*}\n",
       "\\item 'names for current but not for target'\n",
       "\\item 'Mean relative difference: 8.364749e-05'\n",
       "\\end{enumerate*}\n"
      ],
      "text/markdown": [
       "1. 'names for current but not for target'\n",
       "2. 'Mean relative difference: 8.364749e-05'\n",
       "\n",
       "\n"
      ],
      "text/plain": [
       "[1] \"names for current but not for target\"  \n",
       "[2] \"Mean relative difference: 8.364749e-05\""
      ]
     },
     "metadata": {},
     "output_type": "display_data"
    }
   ],
   "source": [
    "# new one -- using only ini_out\n",
    "all.equal(tmle1_new$psi_hat, tmle_shift_new[1])"
   ]
  },
  {
   "cell_type": "code",
   "execution_count": 66,
   "metadata": {},
   "outputs": [
    {
     "data": {
      "text/html": [
       "<ol class=list-inline>\n",
       "\t<li>'names for current but not for target'</li>\n",
       "\t<li>'Mean relative difference: 0.0004683565'</li>\n",
       "</ol>\n"
      ],
      "text/latex": [
       "\\begin{enumerate*}\n",
       "\\item 'names for current but not for target'\n",
       "\\item 'Mean relative difference: 0.0004683565'\n",
       "\\end{enumerate*}\n"
      ],
      "text/markdown": [
       "1. 'names for current but not for target'\n",
       "2. 'Mean relative difference: 0.0004683565'\n",
       "\n",
       "\n"
      ],
      "text/plain": [
       "[1] \"names for current but not for target\"  \n",
       "[2] \"Mean relative difference: 0.0004683565\""
      ]
     },
     "metadata": {},
     "output_type": "display_data"
    }
   ],
   "source": [
    "# old one -- using new_out and ini_out\n",
    "all.equal(tmle1_new$var_hat, tmle_shift_new[2])"
   ]
  },
  {
   "cell_type": "code",
   "execution_count": 72,
   "metadata": {},
   "outputs": [
    {
     "data": {
      "text/html": [
       "<ol class=list-inline>\n",
       "\t<li>'names for current but not for target'</li>\n",
       "\t<li>'Mean relative difference: 0.0004033398'</li>\n",
       "</ol>\n"
      ],
      "text/latex": [
       "\\begin{enumerate*}\n",
       "\\item 'names for current but not for target'\n",
       "\\item 'Mean relative difference: 0.0004033398'\n",
       "\\end{enumerate*}\n"
      ],
      "text/markdown": [
       "1. 'names for current but not for target'\n",
       "2. 'Mean relative difference: 0.0004033398'\n",
       "\n",
       "\n"
      ],
      "text/plain": [
       "[1] \"names for current but not for target\"  \n",
       "[2] \"Mean relative difference: 0.0004033398\""
      ]
     },
     "metadata": {},
     "output_type": "display_data"
    }
   ],
   "source": [
    "# new one -- using only ini_out\n",
    "all.equal(tmle1_new$var_hat, tmle_shift_new[2])"
   ]
  },
  {
   "cell_type": "markdown",
   "metadata": {},
   "source": [
    "Maybe the influence curve estimates are different?"
   ]
  },
  {
   "cell_type": "code",
   "execution_count": 67,
   "metadata": {},
   "outputs": [
    {
     "data": {
      "text/html": [
       "<ol class=list-inline>\n",
       "\t<li>'names for current but not for target'</li>\n",
       "\t<li>'Mean relative difference: 0.0005127967'</li>\n",
       "</ol>\n"
      ],
      "text/latex": [
       "\\begin{enumerate*}\n",
       "\\item 'names for current but not for target'\n",
       "\\item 'Mean relative difference: 0.0005127967'\n",
       "\\end{enumerate*}\n"
      ],
      "text/markdown": [
       "1. 'names for current but not for target'\n",
       "2. 'Mean relative difference: 0.0005127967'\n",
       "\n",
       "\n"
      ],
      "text/plain": [
       "[1] \"names for current but not for target\"  \n",
       "[2] \"Mean relative difference: 0.0005127967\""
      ]
     },
     "metadata": {},
     "output_type": "display_data"
    }
   ],
   "source": [
    "all.equal(tmle1_new$ic, tmle_shift_new[3:102])"
   ]
  }
 ],
 "metadata": {
  "kernelspec": {
   "display_name": "R",
   "language": "R",
   "name": "ir"
  },
  "language_info": {
   "codemirror_mode": "r",
   "file_extension": ".r",
   "mimetype": "text/x-r-source",
   "name": "R",
   "pygments_lexer": "r",
   "version": "3.4.2"
  }
 },
 "nbformat": 4,
 "nbformat_minor": 2
}

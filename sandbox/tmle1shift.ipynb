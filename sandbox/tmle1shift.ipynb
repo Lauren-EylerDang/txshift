{
 "cells": [
  {
   "cell_type": "markdown",
   "metadata": {},
   "source": [
    "## Example setup"
   ]
  },
  {
   "cell_type": "code",
   "execution_count": null,
   "metadata": {
    "collapsed": true
   },
   "outputs": [],
   "source": []
  },
  {
   "cell_type": "code",
   "execution_count": 1,
   "metadata": {
    "collapsed": true
   },
   "outputs": [],
   "source": [
    "# Example based on the data-generating mechanism presented in the simulation\n",
    "n <- 100\n",
    "W <- data.frame(W1 = runif(n), W2 = rbinom(n, 1, 0.7))\n",
    "A <- rpois(n, lambda = exp(3 + .3 * log(W$W1) - 0.2 * exp(W$W1) * W$W2))\n",
    "Y <- rbinom(n, 1, plogis(-1 + 0.05 * A - 0.02 * A * W$W2 + 0.2 * A * tan(W$W1^2)\n",
    "                         - 0.02 * W$W1 * W$W2 + 0.1 * A * W$W1 * W$W2))\n",
    "fitA.0 <- glm(A ~ I(log(W1)) + I(exp(W1)):W2, family = poisson,\n",
    "              data = data.frame(A, W))\n",
    "fitY.0 <- glm(Y ~ A + A:W2 + A:I(tan(W1^2)) + W1:W2 + A:W1:W2,\n",
    "              family = binomial, data = data.frame(A, W))\n",
    "\n",
    "gn.0  <- function(A = A, W = W) {\n",
    "  dpois(A, lambda = predict(fitA.0, newdata = W, type = \"response\"))\n",
    "}\n",
    "\n",
    "Qn.0 <- function(A = A, W = W) {\n",
    "  predict(fitY.0, newdata = data.frame(A, W, row.names = NULL),\n",
    "          type = \"response\")\n",
    "}"
   ]
  },
  {
   "cell_type": "markdown",
   "metadata": {},
   "source": [
    "## Original implementation (vdL & Diáz, 2012)"
   ]
  },
  {
   "cell_type": "code",
   "execution_count": 2,
   "metadata": {},
   "outputs": [
    {
     "ename": "ERROR",
     "evalue": "Error in tmle_shift(Y = Y, A = A, W = W, Qn = Qn.0, gn = gn.0, delta = 2, : could not find function \"tmle_shift\"\n",
     "output_type": "error",
     "traceback": [
      "Error in tmle_shift(Y = Y, A = A, W = W, Qn = Qn.0, gn = gn.0, delta = 2, : could not find function \"tmle_shift\"\nTraceback:\n"
     ]
    }
   ],
   "source": [
    "tmle_shift_new <- tmle_shift(Y = Y, A = A, W = W, Qn = Qn.0, gn = gn.0,\n",
    "                             delta = 2, tol = 1e-4, iter_max = 5,\n",
    "                             A_val = seq(1, 60, 1))"
   ]
  },
  {
   "cell_type": "code",
   "execution_count": null,
   "metadata": {
    "collapsed": true
   },
   "outputs": [],
   "source": []
  },
  {
   "cell_type": "markdown",
   "metadata": {},
   "source": [
    "## 1-TMLE implementation (vdL & Diáz, 2017)"
   ]
  },
  {
   "cell_type": "code",
   "execution_count": null,
   "metadata": {
    "collapsed": true
   },
   "outputs": [],
   "source": []
  }
 ],
 "metadata": {
  "kernelspec": {
   "display_name": "R",
   "language": "R",
   "name": "ir"
  },
  "language_info": {
   "codemirror_mode": "r",
   "file_extension": ".r",
   "mimetype": "text/x-r-source",
   "name": "R",
   "pygments_lexer": "r",
   "version": "3.4.2"
  }
 },
 "nbformat": 4,
 "nbformat_minor": 2
}
